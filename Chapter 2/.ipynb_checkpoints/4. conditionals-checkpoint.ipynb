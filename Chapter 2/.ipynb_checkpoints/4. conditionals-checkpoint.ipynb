{
 "cells": [
  {
   "cell_type": "markdown",
   "metadata": {},
   "source": [
    "# Exercise files for the course 'Python Made Easy'\n",
    "# Created by the YouTube Channel 'NeoTechGuide'\n",
    "\n",
    "***\n",
    "Visit: https://www.youtube.com/channel/UCVCZVbDZ8xrLIYUzBsdCQ8Q\n",
    "***"
   ]
  },
  {
   "cell_type": "markdown",
   "metadata": {},
   "source": [
    "# if, elif, else"
   ]
  },
  {
   "cell_type": "code",
   "execution_count": null,
   "metadata": {},
   "outputs": [],
   "source": [
    "x, y = 10, 30\n",
    "\n",
    "if x < y:\n",
    "    result = \"x is less than y\"\n",
    "print(result)"
   ]
  },
  {
   "cell_type": "code",
   "execution_count": null,
   "metadata": {},
   "outputs": [],
   "source": [
    "# Remove results to make sure it is not already declared.\n",
    "del result"
   ]
  },
  {
   "cell_type": "code",
   "execution_count": null,
   "metadata": {},
   "outputs": [],
   "source": [
    "x, y = 1000, 30\n",
    "\n",
    "if x < y:\n",
    "    result = \"x is less than y\"\n",
    "print(result)"
   ]
  },
  {
   "cell_type": "code",
   "execution_count": null,
   "metadata": {},
   "outputs": [],
   "source": [
    "x, y = 1000, 30\n",
    "\n",
    "if x < y:\n",
    "     result = \"x is less than y\"\n",
    "else:\n",
    "    result = \"x is greater than y\"\n",
    "print(result)"
   ]
  },
  {
   "cell_type": "code",
   "execution_count": null,
   "metadata": {},
   "outputs": [],
   "source": [
    "x, y = 50, 50\n",
    "\n",
    "if x < y:\n",
    "     result = \"x is less than y\"\n",
    "else:\n",
    "    result = \"x is greater than y\"\n",
    "print(result)"
   ]
  },
  {
   "cell_type": "code",
   "execution_count": null,
   "metadata": {},
   "outputs": [],
   "source": [
    "x, y = 50, 50\n",
    "\n",
    "if x < y:\n",
    "     result = \"x is less than y\"\n",
    "elif x == y:\n",
    "    result = \"x is same as y\"\n",
    "else:\n",
    "    result = \"x is greater than y\"\n",
    "print(result)"
   ]
  },
  {
   "cell_type": "markdown",
   "metadata": {},
   "source": [
    "# Use \"a if C else b\""
   ]
  },
  {
   "cell_type": "code",
   "execution_count": null,
   "metadata": {},
   "outputs": [],
   "source": [
    "result = \"x is less than y\" if (x < y) else \"x is greater than OR equal to y\"\n",
    "print(result)"
   ]
  },
  {
   "cell_type": "markdown",
   "metadata": {},
   "source": [
    "# in Python 3.10, the match-case construct can be used for comparisons"
   ]
  },
  {
   "cell_type": "code",
   "execution_count": 14,
   "metadata": {},
   "outputs": [
    {
     "name": "stdout",
     "output_type": "stream",
     "text": [
      "1\n"
     ]
    }
   ],
   "source": [
    "value = \"one\"\n",
    "match value:\n",
    "    case \"one\":\n",
    "        result = 1\n",
    "    case \"two\":\n",
    "        result = 2\n",
    "    case \"three\" | \"four\":\n",
    "        result = (3, 4)\n",
    "    case _:\n",
    "        result = -1\n",
    "print(result)"
   ]
  },
  {
   "cell_type": "code",
   "execution_count": 15,
   "metadata": {},
   "outputs": [
    {
     "name": "stdout",
     "output_type": "stream",
     "text": [
      "(3, 4)\n"
     ]
    }
   ],
   "source": [
    "value = \"three\"\n",
    "match value:\n",
    "    case \"one\":\n",
    "        result = 1\n",
    "    case \"two\":\n",
    "        result = 2\n",
    "    case \"three\" | \"four\":\n",
    "        result = (3, 4)\n",
    "    case _:\n",
    "        result = -1\n",
    "print(result)"
   ]
  },
  {
   "cell_type": "code",
   "execution_count": 16,
   "metadata": {},
   "outputs": [
    {
     "name": "stdout",
     "output_type": "stream",
     "text": [
      "-1\n"
     ]
    }
   ],
   "source": [
    "value = \"ten\"\n",
    "match value:\n",
    "    case \"one\":\n",
    "        result = 1\n",
    "    case \"two\":\n",
    "        result = 2\n",
    "    case \"three\" | \"four\":\n",
    "        result = (3, 4)\n",
    "    case _:\n",
    "        result = -1\n",
    "print(result)"
   ]
  },
  {
   "cell_type": "code",
   "execution_count": null,
   "metadata": {},
   "outputs": [],
   "source": []
  }
 ],
 "metadata": {
  "kernelspec": {
   "display_name": "Python 3 (ipykernel)",
   "language": "python",
   "name": "python3"
  },
  "language_info": {
   "codemirror_mode": {
    "name": "ipython",
    "version": 3
   },
   "file_extension": ".py",
   "mimetype": "text/x-python",
   "name": "python",
   "nbconvert_exporter": "python",
   "pygments_lexer": "ipython3",
   "version": "3.10.0"
  }
 },
 "nbformat": 4,
 "nbformat_minor": 2
}
