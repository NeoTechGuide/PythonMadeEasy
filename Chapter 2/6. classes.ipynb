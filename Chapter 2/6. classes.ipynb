{
 "cells": [
  {
   "cell_type": "markdown",
   "metadata": {},
   "source": [
    "# Defining new classes"
   ]
  },
  {
   "cell_type": "code",
   "execution_count": 1,
   "metadata": {},
   "outputs": [],
   "source": [
    "class Vehicle():\n",
    "    def __init__(self, bodystyle):\n",
    "        self.bodystyle = bodystyle"
   ]
  },
  {
   "cell_type": "code",
   "execution_count": 2,
   "metadata": {},
   "outputs": [],
   "source": [
    "class Car(Vehicle):\n",
    "    def __init__(self, enginetype):\n",
    "        super().__init__(\"Car\")\n",
    "        self.wheels = 4\n",
    "        self.doors = 4\n",
    "        self.engine = enginetype"
   ]
  },
  {
   "cell_type": "code",
   "execution_count": 3,
   "metadata": {},
   "outputs": [],
   "source": [
    "class Motorcycle(Vehicle):\n",
    "    def __init__(self, enginetype, hassidecar):\n",
    "        super().__init__(\"Motorcycle\")\n",
    "        if (hassidecar):\n",
    "            self.wheels = 3\n",
    "        else:\n",
    "            self.wheels = 2\n",
    "        self.doors = 0\n",
    "        self.engine = enginetype"
   ]
  },
  {
   "cell_type": "code",
   "execution_count": 4,
   "metadata": {},
   "outputs": [],
   "source": [
    "car1 = Car(\"gas\")\n",
    "car2 = Car(\"electric\")\n",
    "mc1 = Motorcycle(\"gas\", True)"
   ]
  },
  {
   "cell_type": "code",
   "execution_count": 5,
   "metadata": {},
   "outputs": [
    {
     "name": "stdout",
     "output_type": "stream",
     "text": [
      "3\n",
      "gas\n",
      "4\n"
     ]
    }
   ],
   "source": [
    "print(mc1.wheels)\n",
    "print(car1.engine)\n",
    "print(car2.doors)"
   ]
  },
  {
   "cell_type": "markdown",
   "metadata": {},
   "source": [
    "# Class functions"
   ]
  },
  {
   "cell_type": "code",
   "execution_count": 6,
   "metadata": {},
   "outputs": [],
   "source": [
    "class Vehicle():\n",
    "    def __init__(self, bodystyle):\n",
    "        self.bodystyle = bodystyle\n",
    "    def drive(self, speed):\n",
    "        self.mode = \"driving\"\n",
    "        self.speed = speed"
   ]
  },
  {
   "cell_type": "code",
   "execution_count": 7,
   "metadata": {},
   "outputs": [],
   "source": [
    "class Car(Vehicle):\n",
    "    def __init__(self, enginetype):\n",
    "        super().__init__(\"Car\")\n",
    "        self.wheels = 4\n",
    "        self.doors = 4\n",
    "        self.engine = enginetype\n",
    "    def drive(self, speed):\n",
    "        super().drive(speed)\n",
    "        print(\"Driving my\", self.engine, \"Car at \", self.speed)"
   ]
  },
  {
   "cell_type": "code",
   "execution_count": 8,
   "metadata": {},
   "outputs": [],
   "source": [
    "class Motorcycle(Vehicle):\n",
    "    def __init__(self, enginetype, hassidecar):\n",
    "        super().__init__(\"Motorcycle\")\n",
    "        if (hassidecar):\n",
    "            self.wheels = 3\n",
    "        else:\n",
    "            self.wheels = 2\n",
    "        self.doors = 0\n",
    "        self.engine = enginetype\n",
    "    def drive(self, speed):\n",
    "        super().drive(speed)\n",
    "        print(\"Driving my\", self.engine, \"motorcylce at \", self.speed)"
   ]
  },
  {
   "cell_type": "code",
   "execution_count": 9,
   "metadata": {},
   "outputs": [],
   "source": [
    "car1 = Car(\"gas\")\n",
    "car2 = Car(\"electric\")\n",
    "mc1 = Motorcycle(\"gas\", True)"
   ]
  },
  {
   "cell_type": "code",
   "execution_count": 10,
   "metadata": {},
   "outputs": [
    {
     "name": "stdout",
     "output_type": "stream",
     "text": [
      "Driving my gas Car at  30\n",
      "Driving my electric Car at  40\n",
      "Driving my gas motorcylce at  50\n"
     ]
    }
   ],
   "source": [
    "car1.drive(30)\n",
    "car2.drive(40)\n",
    "mc1.drive(50)"
   ]
  },
  {
   "cell_type": "code",
   "execution_count": null,
   "metadata": {},
   "outputs": [],
   "source": []
  },
  {
   "cell_type": "code",
   "execution_count": null,
   "metadata": {},
   "outputs": [],
   "source": []
  },
  {
   "cell_type": "code",
   "execution_count": null,
   "metadata": {},
   "outputs": [],
   "source": []
  },
  {
   "cell_type": "code",
   "execution_count": null,
   "metadata": {},
   "outputs": [],
   "source": []
  },
  {
   "cell_type": "code",
   "execution_count": null,
   "metadata": {},
   "outputs": [],
   "source": []
  },
  {
   "cell_type": "code",
   "execution_count": null,
   "metadata": {},
   "outputs": [],
   "source": []
  },
  {
   "cell_type": "code",
   "execution_count": null,
   "metadata": {},
   "outputs": [],
   "source": []
  },
  {
   "cell_type": "code",
   "execution_count": null,
   "metadata": {},
   "outputs": [],
   "source": []
  },
  {
   "cell_type": "code",
   "execution_count": null,
   "metadata": {},
   "outputs": [],
   "source": []
  },
  {
   "cell_type": "code",
   "execution_count": null,
   "metadata": {},
   "outputs": [],
   "source": []
  },
  {
   "cell_type": "code",
   "execution_count": null,
   "metadata": {},
   "outputs": [],
   "source": []
  },
  {
   "cell_type": "code",
   "execution_count": null,
   "metadata": {},
   "outputs": [],
   "source": []
  },
  {
   "cell_type": "code",
   "execution_count": null,
   "metadata": {},
   "outputs": [],
   "source": []
  },
  {
   "cell_type": "code",
   "execution_count": null,
   "metadata": {},
   "outputs": [],
   "source": []
  }
 ],
 "metadata": {
  "kernelspec": {
   "display_name": "Python 3 (ipykernel)",
   "language": "python",
   "name": "python3"
  },
  "language_info": {
   "codemirror_mode": {
    "name": "ipython",
    "version": 3
   },
   "file_extension": ".py",
   "mimetype": "text/x-python",
   "name": "python",
   "nbconvert_exporter": "python",
   "pygments_lexer": "ipython3",
   "version": "3.10.0"
  }
 },
 "nbformat": 4,
 "nbformat_minor": 2
}
