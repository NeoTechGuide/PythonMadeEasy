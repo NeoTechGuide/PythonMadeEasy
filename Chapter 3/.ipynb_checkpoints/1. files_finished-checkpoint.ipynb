{
 "cells": [
  {
   "cell_type": "markdown",
   "metadata": {},
   "source": [
    "# Open a file for writing and create it if it doesn't exist"
   ]
  },
  {
   "cell_type": "code",
   "execution_count": null,
   "metadata": {},
   "outputs": [],
   "source": [
    "f = open(\"textfile.txt\",\"w+\")\n",
    "    \n",
    "# Open the file for appending text to the end\n",
    "# f = open(\"textfile.txt\",\"a+\")"
   ]
  },
  {
   "cell_type": "markdown",
   "metadata": {},
   "source": [
    "# write some lines of data to the file"
   ]
  },
  {
   "cell_type": "code",
   "execution_count": null,
   "metadata": {},
   "outputs": [],
   "source": [
    "for i in range(10):\n",
    "    f.write(\"This is line %d\\n\" % (i+1))\n",
    "    \n",
    "# Done? close the file\n",
    "f.close()"
   ]
  },
  {
   "cell_type": "markdown",
   "metadata": {},
   "source": [
    "# Open the file for appending text to the end"
   ]
  },
  {
   "cell_type": "code",
   "execution_count": null,
   "metadata": {},
   "outputs": [],
   "source": [
    "f = open(\"textfile.txt\",\"a+\")\n",
    "    \n",
    "for i in range(10):\n",
    "    f.write(\"This is new line %d\\n\" % (i+1))\n",
    "    \n",
    "# Done? close the file\n",
    "f.close()"
   ]
  },
  {
   "cell_type": "markdown",
   "metadata": {},
   "source": [
    "# Open the file and read the entire file with 'read' function"
   ]
  },
  {
   "cell_type": "code",
   "execution_count": null,
   "metadata": {},
   "outputs": [],
   "source": [
    "f = open(\"textfile.txt\",\"r\")\n",
    "\n",
    "if f.mode == 'r':\n",
    "    contents = f.read()\n",
    "    print (contents)"
   ]
  },
  {
   "cell_type": "markdown",
   "metadata": {},
   "source": [
    "# Open the file and read the file line by line with 'readlines' function"
   ]
  },
  {
   "cell_type": "code",
   "execution_count": null,
   "metadata": {},
   "outputs": [],
   "source": [
    "f = open(\"textfile.txt\",\"r\")\n",
    "\n",
    "if f.mode == 'r':\n",
    "    f1 = f.readlines()\n",
    "    \n",
    "    for x in f1:\n",
    "        print (x)"
   ]
  }
 ],
 "metadata": {
  "kernelspec": {
   "display_name": "Python 3 (ipykernel)",
   "language": "python",
   "name": "python3"
  },
  "language_info": {
   "codemirror_mode": {
    "name": "ipython",
    "version": 3
   },
   "file_extension": ".py",
   "mimetype": "text/x-python",
   "name": "python",
   "nbconvert_exporter": "python",
   "pygments_lexer": "ipython3",
   "version": "3.10.0"
  }
 },
 "nbformat": 4,
 "nbformat_minor": 2
}
