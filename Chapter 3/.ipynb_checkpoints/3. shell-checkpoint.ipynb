{
 "cells": [
  {
   "cell_type": "markdown",
   "metadata": {},
   "source": [
    "# Exercise files for the course 'Python Made Easy'\n",
    "# Created by the YouTube Channel 'NeoTechGuide'\n",
    "\n",
    "***\n",
    "Visit: https://www.youtube.com/channel/UCVCZVbDZ8xrLIYUzBsdCQ8Q\n",
    "***"
   ]
  },
  {
   "cell_type": "code",
   "execution_count": null,
   "metadata": {},
   "outputs": [],
   "source": [
    "import os\n",
    "from os import path\n",
    "\n",
    "import shutil\n",
    "from shutil import make_archive\n",
    "\n",
    "from zipfile import ZipFile"
   ]
  },
  {
   "cell_type": "markdown",
   "metadata": {},
   "source": [
    "# Make a copy/duplicate of a file"
   ]
  },
  {
   "cell_type": "code",
   "execution_count": null,
   "metadata": {},
   "outputs": [],
   "source": [
    "if path.exists(\"textfile.txt\"):\n",
    "    # get the path to the file in the current directory\n",
    "    src = path.realpath(\"textfile.txt\");\n",
    "        \n",
    "    # let's make a backup copy by appending \"bak\" to the name\n",
    "    dst = src + \".bak\"\n",
    "    \n",
    "    # now use the shell to make a copy of the file\n",
    "    shutil.copy(src,dst)"
   ]
  },
  {
   "cell_type": "markdown",
   "metadata": {},
   "source": [
    "# Rename the original file"
   ]
  },
  {
   "cell_type": "code",
   "execution_count": null,
   "metadata": {},
   "outputs": [],
   "source": [
    "if path.exists(\"textfile.txt\"):\n",
    "    os.rename(\"textfile.txt\", \"newfile.txt\")"
   ]
  },
  {
   "cell_type": "markdown",
   "metadata": {},
   "source": [
    "# Put files into a ZIP archive"
   ]
  },
  {
   "cell_type": "code",
   "execution_count": null,
   "metadata": {},
   "outputs": [],
   "source": [
    "root_dir, tail = path.split(src)\n",
    "z = shutil.make_archive(\"myarchive\", \"zip\", root_dir)"
   ]
  },
  {
   "cell_type": "markdown",
   "metadata": {},
   "source": [
    "# Make custom ZIP files"
   ]
  },
  {
   "cell_type": "code",
   "execution_count": null,
   "metadata": {},
   "outputs": [],
   "source": [
    "with ZipFile(\"myzip.zip\",\"w\") as newzipfile:\n",
    "    newzipfile.write(\"newfile.txt\")\n",
    "    newzipfile.write(\"textfile.txt.bak\")"
   ]
  }
 ],
 "metadata": {
  "kernelspec": {
   "display_name": "Python 3 (ipykernel)",
   "language": "python",
   "name": "python3"
  },
  "language_info": {
   "codemirror_mode": {
    "name": "ipython",
    "version": 3
   },
   "file_extension": ".py",
   "mimetype": "text/x-python",
   "name": "python",
   "nbconvert_exporter": "python",
   "pygments_lexer": "ipython3",
   "version": "3.10.0"
  }
 },
 "nbformat": 4,
 "nbformat_minor": 2
}
