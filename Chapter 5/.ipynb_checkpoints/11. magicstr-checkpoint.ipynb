{
 "cells": [
  {
   "cell_type": "markdown",
   "metadata": {},
   "source": [
    "# Exercise files for the course 'Python Made Easy'\n",
    "# Created by the YouTube Channel 'NeoTechGuide'\n",
    "\n",
    "***\n",
    "Visit: https://www.youtube.com/channel/UCVCZVbDZ8xrLIYUzBsdCQ8Q\n",
    "***"
   ]
  },
  {
   "cell_type": "code",
   "execution_count": null,
   "metadata": {},
   "outputs": [],
   "source": [
    "class Book:\n",
    "    def __init__(self, title, author, price):\n",
    "        super().__init__()\n",
    "        self.title = title\n",
    "        self.author = author\n",
    "        self.price = price"
   ]
  },
  {
   "cell_type": "code",
   "execution_count": null,
   "metadata": {},
   "outputs": [],
   "source": [
    "b1 = Book(\"To Kill a Mockingbird\", \"Harper Lee\", 55)\n",
    "b2 = Book(\"The Great Gatsby\", \"F. Scott Fitzgerald\", 45)"
   ]
  },
  {
   "cell_type": "code",
   "execution_count": null,
   "metadata": {},
   "outputs": [],
   "source": [
    "print(b1)\n",
    "print(b2)"
   ]
  },
  {
   "cell_type": "code",
   "execution_count": null,
   "metadata": {},
   "outputs": [],
   "source": [
    "# useing str() and repr()\n",
    "print(str(b1))\n",
    "print(repr(b2))"
   ]
  },
  {
   "cell_type": "markdown",
   "metadata": {},
   "source": [
    "# Using magic methods"
   ]
  },
  {
   "cell_type": "code",
   "execution_count": null,
   "metadata": {},
   "outputs": [],
   "source": [
    "class Book:\n",
    "    def __init__(self, title, author, price):\n",
    "        super().__init__()\n",
    "        self.title = title\n",
    "        self.author = author\n",
    "        self.price = price\n",
    "\n",
    "    def __str__(self):\n",
    "        return f\"{self.title} by {self.author}, costs {self.price}\"\n",
    "\n",
    "    def __repr__(self):\n",
    "        return f\"title={self.title},author={self.author},price={self.price}\""
   ]
  },
  {
   "cell_type": "code",
   "execution_count": null,
   "metadata": {},
   "outputs": [],
   "source": [
    "# Redefine the objects\n",
    "b1 = Book(\"To Kill a Mockingbird\", \"Harper Lee\", 55)\n",
    "b2 = Book(\"The Great Gatsby\", \"F. Scott Fitzgerald\", 45)"
   ]
  },
  {
   "cell_type": "code",
   "execution_count": null,
   "metadata": {},
   "outputs": [],
   "source": [
    "print(b1)\n",
    "print(b2)"
   ]
  },
  {
   "cell_type": "code",
   "execution_count": null,
   "metadata": {},
   "outputs": [],
   "source": [
    "# useing str() and repr()\n",
    "print(str(b1))\n",
    "print(repr(b2))"
   ]
  }
 ],
 "metadata": {
  "kernelspec": {
   "display_name": "Python 3 (ipykernel)",
   "language": "python",
   "name": "python3"
  },
  "language_info": {
   "codemirror_mode": {
    "name": "ipython",
    "version": 3
   },
   "file_extension": ".py",
   "mimetype": "text/x-python",
   "name": "python",
   "nbconvert_exporter": "python",
   "pygments_lexer": "ipython3",
   "version": "3.10.0"
  }
 },
 "nbformat": 4,
 "nbformat_minor": 2
}
