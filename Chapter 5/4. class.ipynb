{
 "cells": [
  {
   "cell_type": "code",
   "execution_count": null,
   "metadata": {},
   "outputs": [],
   "source": [
    "class Book:\n",
    "    # class-level attribute\n",
    "    TYPES = (\"HARDCOVER\", \"PAPERBACK\", \"EBOOK\")\n",
    "\n",
    "    # class methods\n",
    "    @classmethod\n",
    "    def getbooktypes(cls):\n",
    "        return cls.TYPES\n",
    "\n",
    "    # instance methods\n",
    "    def setTitle(self, newtitle):\n",
    "        self.title = newtitle\n",
    "        \n",
    "    def __init__(self, title, booktype):\n",
    "        self.title = title\n",
    "        if (not booktype in Book.TYPES):\n",
    "            raise ValueError(f\"{booktype} is not a valid book type\")\n",
    "        else:\n",
    "            self.booktype = booktype"
   ]
  },
  {
   "cell_type": "markdown",
   "metadata": {},
   "source": [
    "# Access the class attribute"
   ]
  },
  {
   "cell_type": "code",
   "execution_count": null,
   "metadata": {},
   "outputs": [],
   "source": [
    "print(\"Book types: \", Book.getbooktypes())"
   ]
  },
  {
   "cell_type": "markdown",
   "metadata": {},
   "source": [
    "# Create instances"
   ]
  },
  {
   "cell_type": "code",
   "execution_count": null,
   "metadata": {
    "scrolled": true
   },
   "outputs": [],
   "source": [
    "b1 = Book(\"To Kill a Mockingbird\", \"HARDCOVER\")"
   ]
  },
  {
   "cell_type": "code",
   "execution_count": null,
   "metadata": {},
   "outputs": [],
   "source": [
    "b2 = Book(\"The Great Gatsby\", \"COMIC\")"
   ]
  },
  {
   "cell_type": "code",
   "execution_count": null,
   "metadata": {},
   "outputs": [],
   "source": [
    "b2 = Book(\"The Great Gatsby\", \"PAPERBACK\")"
   ]
  },
  {
   "cell_type": "markdown",
   "metadata": {},
   "source": [
    "# Static methods / Access a singleton object"
   ]
  },
  {
   "cell_type": "code",
   "execution_count": null,
   "metadata": {},
   "outputs": [],
   "source": [
    "class Book:\n",
    "    # class-level attribute\n",
    "    TYPES = (\"HARDCOVER\", \"PAPERBACK\", \"EBOOK\")\n",
    "    \n",
    "    # hidden from other classes\n",
    "    __booklist = None\n",
    "    \n",
    "    # static methods\n",
    "    @staticmethod\n",
    "    def getbooklist():\n",
    "        if Book.__booklist == None:\n",
    "            Book.__booklist = []\n",
    "        return Book.__booklist\n",
    "    \n",
    "    # class methods\n",
    "    @classmethod\n",
    "    def getbooktypes(cls):\n",
    "        return cls.TYPES\n",
    "\n",
    "    # instance methods\n",
    "    def setTitle(self, newtitle):\n",
    "        self.title = newtitle\n",
    "        \n",
    "    def __init__(self, title, booktype):\n",
    "        self.title = title\n",
    "        if (not booktype in Book.TYPES):\n",
    "            raise ValueError(f\"{booktype} is not a valid book type\")\n",
    "        else:\n",
    "            self.booktype = booktype"
   ]
  },
  {
   "cell_type": "code",
   "execution_count": null,
   "metadata": {},
   "outputs": [],
   "source": [
    "# Create new instances\n",
    "b1 = Book(\"To Kill a Mockingbird\", \"HARDCOVER\")\n",
    "b2 = Book(\"The Great Gatsby\", \"PAPERBACK\")\n",
    "\n",
    "thebooks = Book.getbooklist()\n",
    "thebooks.append(b1)\n",
    "thebooks.append(b2)\n",
    "print(thebooks)"
   ]
  }
 ],
 "metadata": {
  "kernelspec": {
   "display_name": "Python 3 (ipykernel)",
   "language": "python",
   "name": "python3"
  },
  "language_info": {
   "codemirror_mode": {
    "name": "ipython",
    "version": 3
   },
   "file_extension": ".py",
   "mimetype": "text/x-python",
   "name": "python",
   "nbconvert_exporter": "python",
   "pygments_lexer": "ipython3",
   "version": "3.10.0"
  }
 },
 "nbformat": 4,
 "nbformat_minor": 2
}
