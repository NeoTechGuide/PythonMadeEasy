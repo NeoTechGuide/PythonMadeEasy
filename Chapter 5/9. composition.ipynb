{
 "cells": [
  {
   "cell_type": "code",
   "execution_count": null,
   "metadata": {},
   "outputs": [],
   "source": [
    "class Book:\n",
    "    def __init__(self, title, price, authorfname, authorlname):\n",
    "        self.title = title\n",
    "        self.price = price\n",
    "\n",
    "        self.authorfname = authorfname\n",
    "        self.authorlname = authorlname\n",
    "\n",
    "        self.chapters = []\n",
    "\n",
    "    def addchapter(self, name, pages):\n",
    "        self.chapters.append((name, pages))"
   ]
  },
  {
   "cell_type": "code",
   "execution_count": null,
   "metadata": {},
   "outputs": [],
   "source": [
    "b1 = Book(\"To Kill a Mockingbird\", 55, \"Harper\", \"Lee\")\n",
    "\n",
    "b1.addchapter(\"Chapter 1\", 125)\n",
    "b1.addchapter(\"Chapter 2\", 97)\n",
    "b1.addchapter(\"Chapter 3\", 143)\n",
    "\n",
    "print(b1.title)"
   ]
  },
  {
   "cell_type": "markdown",
   "metadata": {},
   "source": [
    "# Using composition"
   ]
  },
  {
   "cell_type": "code",
   "execution_count": null,
   "metadata": {},
   "outputs": [],
   "source": [
    "class Author:\n",
    "    def __init__(self, fname, lname):\n",
    "        self.fname = fname\n",
    "        self.lname = lname\n",
    "        \n",
    "    def __str__(self):\n",
    "        return f\"{self.fname} {self.lname}\""
   ]
  },
  {
   "cell_type": "code",
   "execution_count": null,
   "metadata": {},
   "outputs": [],
   "source": [
    "class Chapter:\n",
    "    def __init__(self, name, pagecount):\n",
    "        self.name = name\n",
    "        self.pagecount = pagecount"
   ]
  },
  {
   "cell_type": "code",
   "execution_count": null,
   "metadata": {},
   "outputs": [],
   "source": [
    "class Book:\n",
    "    def __init__(self, title, price, author=None):\n",
    "        self.title = title\n",
    "        self.price = price\n",
    "\n",
    "        # Use references to other objects, like author and chapters\n",
    "        self.author = author\n",
    "        self.chapters = []\n",
    "        \n",
    "    def addchapter(self, chapter):\n",
    "        self.chapters.append(chapter)\n",
    "        \n",
    "    def gettotalpagecount(self):\n",
    "        result = 0\n",
    "        for ch in self.chapters:\n",
    "            result += ch.pagecount\n",
    "        return result"
   ]
  },
  {
   "cell_type": "code",
   "execution_count": null,
   "metadata": {},
   "outputs": [],
   "source": [
    "auth = Author(\"Harper\", \"Lee\")\n",
    "b1 = Book(\"To Kill a Mockingbird\", 55, auth)"
   ]
  },
  {
   "cell_type": "code",
   "execution_count": null,
   "metadata": {},
   "outputs": [],
   "source": [
    "b1.addchapter(Chapter(\"Chapter 1\", 104))\n",
    "b1.addchapter(Chapter(\"Chapter 2\", 89))\n",
    "b1.addchapter(Chapter(\"Chapter 3\", 124))"
   ]
  },
  {
   "cell_type": "code",
   "execution_count": null,
   "metadata": {},
   "outputs": [],
   "source": [
    "print(b1.title)\n",
    "print(b1.author)\n",
    "print(b1.gettotalpagecount())"
   ]
  }
 ],
 "metadata": {
  "kernelspec": {
   "display_name": "Python 3 (ipykernel)",
   "language": "python",
   "name": "python3"
  },
  "language_info": {
   "codemirror_mode": {
    "name": "ipython",
    "version": 3
   },
   "file_extension": ".py",
   "mimetype": "text/x-python",
   "name": "python",
   "nbconvert_exporter": "python",
   "pygments_lexer": "ipython3",
   "version": "3.10.0"
  }
 },
 "nbformat": 4,
 "nbformat_minor": 2
}
