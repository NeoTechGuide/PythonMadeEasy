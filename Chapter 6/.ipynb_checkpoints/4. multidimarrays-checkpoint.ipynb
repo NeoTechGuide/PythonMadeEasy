{
 "cells": [
  {
   "cell_type": "markdown",
   "id": "aeaedf1b",
   "metadata": {},
   "source": [
    "# Exercise files for the course 'Python Made Easy'\n",
    "# Created by the YouTube Channel 'NeoTechGuide'\n",
    "\n",
    "***\n",
    "Visit: https://www.youtube.com/channel/UCVCZVbDZ8xrLIYUzBsdCQ8Q\n",
    "***"
   ]
  },
  {
   "cell_type": "code",
   "execution_count": null,
   "id": "59c75695",
   "metadata": {},
   "outputs": [],
   "source": [
    "import numpy as np"
   ]
  },
  {
   "cell_type": "code",
   "execution_count": null,
   "id": "b2fa6785",
   "metadata": {},
   "outputs": [],
   "source": [
    "my2Darray = np.array([[1,2,3,4,5],[6,7,8,9,10]])\n",
    "print(my2Darray)"
   ]
  },
  {
   "cell_type": "code",
   "execution_count": null,
   "id": "f878ff8c",
   "metadata": {},
   "outputs": [],
   "source": [
    "print(my2Darray[0,0]) # The first element in the top left corner  \n",
    "print(my2Darray[1,4]) # The last element in the bottom right corner"
   ]
  },
  {
   "cell_type": "code",
   "execution_count": null,
   "id": "61dbba70",
   "metadata": {},
   "outputs": [],
   "source": [
    "print(my2Darray.ndim)"
   ]
  },
  {
   "cell_type": "code",
   "execution_count": null,
   "id": "944ccbd7",
   "metadata": {},
   "outputs": [],
   "source": [
    "my3Darray = np.array([[[1,2,3],[4,5,6]],[[7,8,9],[10,11,12]]])\n",
    "print(my3Darray)"
   ]
  },
  {
   "cell_type": "code",
   "execution_count": null,
   "id": "99ddb1a3",
   "metadata": {},
   "outputs": [],
   "source": [
    "print(my3Darray[1,0,2])"
   ]
  }
 ],
 "metadata": {
  "kernelspec": {
   "display_name": "Python 3 (ipykernel)",
   "language": "python",
   "name": "python3"
  },
  "language_info": {
   "codemirror_mode": {
    "name": "ipython",
    "version": 3
   },
   "file_extension": ".py",
   "mimetype": "text/x-python",
   "name": "python",
   "nbconvert_exporter": "python",
   "pygments_lexer": "ipython3",
   "version": "3.9.7"
  }
 },
 "nbformat": 4,
 "nbformat_minor": 5
}
