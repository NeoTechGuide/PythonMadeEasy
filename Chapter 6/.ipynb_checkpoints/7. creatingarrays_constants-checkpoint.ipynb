{
 "cells": [
  {
   "cell_type": "markdown",
   "id": "25448271",
   "metadata": {},
   "source": [
    "# Exercise files for the course 'Python Made Easy'\n",
    "# Created by the YouTube Channel 'NeoTechGuide'\n",
    "\n",
    "***\n",
    "Visit: https://www.youtube.com/channel/UCVCZVbDZ8xrLIYUzBsdCQ8Q\n",
    "***"
   ]
  },
  {
   "cell_type": "code",
   "execution_count": null,
   "id": "103dbfcd",
   "metadata": {},
   "outputs": [],
   "source": [
    "import numpy as np"
   ]
  },
  {
   "cell_type": "markdown",
   "id": "7e855006",
   "metadata": {},
   "source": [
    "# Creating arrays filled with zeros"
   ]
  },
  {
   "cell_type": "code",
   "execution_count": null,
   "id": "bf39dc96",
   "metadata": {},
   "outputs": [],
   "source": [
    "myarray0 = np.zeros(10)\n",
    "print(myarray0)"
   ]
  },
  {
   "cell_type": "code",
   "execution_count": null,
   "id": "7d16e458",
   "metadata": {},
   "outputs": [],
   "source": [
    "my2Darray0 = np.zeros((5,7))\n",
    "print(my2Darray0)"
   ]
  },
  {
   "cell_type": "markdown",
   "id": "294bc085",
   "metadata": {},
   "source": [
    "# Creating arrays filled with ones"
   ]
  },
  {
   "cell_type": "code",
   "execution_count": null,
   "id": "c210bf43",
   "metadata": {},
   "outputs": [],
   "source": [
    "my1Darray1 = np.ones(10)\n",
    "print(my1Darray1)"
   ]
  },
  {
   "cell_type": "code",
   "execution_count": null,
   "id": "8b73f832",
   "metadata": {},
   "outputs": [],
   "source": [
    "my2Darray1 = np.ones((7,8))\n",
    "print(my2Darray1)"
   ]
  },
  {
   "cell_type": "code",
   "execution_count": null,
   "id": "1e7a3029",
   "metadata": {},
   "outputs": [],
   "source": [
    "my2Darray1int = np.ones((4,5),dtype=int)\n",
    "print(my2Darray1int)"
   ]
  },
  {
   "cell_type": "markdown",
   "id": "845753f0",
   "metadata": {},
   "source": [
    "# Creating arrays with 'fill' and 'full' functions"
   ]
  },
  {
   "cell_type": "code",
   "execution_count": null,
   "id": "15c14678",
   "metadata": {},
   "outputs": [],
   "source": [
    "my1Darrayfill = np.empty(5,dtype=int)\n",
    "my1Darrayfill.fill(10)\n",
    "print(my1Darrayfill)"
   ]
  },
  {
   "cell_type": "code",
   "execution_count": null,
   "id": "7983517a",
   "metadata": {},
   "outputs": [],
   "source": [
    "my1Darrayfull = np.full(5,10)\n",
    "print(my1Darrayfull)"
   ]
  },
  {
   "cell_type": "code",
   "execution_count": null,
   "id": "9fc8051b",
   "metadata": {},
   "outputs": [],
   "source": [
    "my2Darrayfull = np.full((4,6),8)\n",
    "print(my2Darrayfull)"
   ]
  }
 ],
 "metadata": {
  "kernelspec": {
   "display_name": "Python 3 (ipykernel)",
   "language": "python",
   "name": "python3"
  },
  "language_info": {
   "codemirror_mode": {
    "name": "ipython",
    "version": 3
   },
   "file_extension": ".py",
   "mimetype": "text/x-python",
   "name": "python",
   "nbconvert_exporter": "python",
   "pygments_lexer": "ipython3",
   "version": "3.9.7"
  }
 },
 "nbformat": 4,
 "nbformat_minor": 5
}
