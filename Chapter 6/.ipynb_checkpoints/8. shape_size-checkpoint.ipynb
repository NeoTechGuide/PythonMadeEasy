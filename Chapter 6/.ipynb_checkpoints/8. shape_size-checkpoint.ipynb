{
 "cells": [
  {
   "cell_type": "markdown",
   "id": "1b4881a9",
   "metadata": {},
   "source": [
    "# Exercise files for the course 'Python Made Easy'\n",
    "# Created by the YouTube Channel 'NeoTechGuide'\n",
    "\n",
    "***\n",
    "Visit: https://www.youtube.com/channel/UCVCZVbDZ8xrLIYUzBsdCQ8Q\n",
    "***"
   ]
  },
  {
   "cell_type": "code",
   "execution_count": null,
   "id": "d0f23187",
   "metadata": {},
   "outputs": [],
   "source": [
    "import numpy as np"
   ]
  },
  {
   "cell_type": "code",
   "execution_count": null,
   "id": "7c28c5aa",
   "metadata": {},
   "outputs": [],
   "source": [
    "myarray1 = np.arange(15)\n",
    "print(myarray1)"
   ]
  },
  {
   "cell_type": "code",
   "execution_count": null,
   "id": "aef879c9",
   "metadata": {},
   "outputs": [],
   "source": [
    "myarray2 = np.linspace((1,10),(5,18),5)\n",
    "print(myarray2)"
   ]
  },
  {
   "cell_type": "code",
   "execution_count": null,
   "id": "c01ac91d",
   "metadata": {},
   "outputs": [],
   "source": [
    "myarray3 = np.full((2,2,2),5)\n",
    "print(myarray3)"
   ]
  },
  {
   "cell_type": "markdown",
   "id": "cc51ebd7",
   "metadata": {},
   "source": [
    "#  Getting the shape of an array"
   ]
  },
  {
   "cell_type": "code",
   "execution_count": null,
   "id": "5e1da470",
   "metadata": {},
   "outputs": [],
   "source": [
    "print(np.shape(myarray1))\n",
    "print(np.shape(myarray2))\n",
    "print(np.shape(myarray3))"
   ]
  },
  {
   "cell_type": "markdown",
   "id": "c720bdb6",
   "metadata": {},
   "source": [
    "#  Getting the size of an array"
   ]
  },
  {
   "cell_type": "code",
   "execution_count": null,
   "id": "f3b7ec4e",
   "metadata": {},
   "outputs": [],
   "source": [
    "print(np.size(myarray1))\n",
    "print(np.size(myarray2))\n",
    "print(np.size(myarray3))"
   ]
  }
 ],
 "metadata": {
  "kernelspec": {
   "display_name": "Python 3 (ipykernel)",
   "language": "python",
   "name": "python3"
  },
  "language_info": {
   "codemirror_mode": {
    "name": "ipython",
    "version": 3
   },
   "file_extension": ".py",
   "mimetype": "text/x-python",
   "name": "python",
   "nbconvert_exporter": "python",
   "pygments_lexer": "ipython3",
   "version": "3.9.7"
  }
 },
 "nbformat": 4,
 "nbformat_minor": 5
}
