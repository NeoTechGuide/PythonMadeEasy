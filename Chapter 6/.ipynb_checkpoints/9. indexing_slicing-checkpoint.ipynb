{
 "cells": [
  {
   "cell_type": "markdown",
   "id": "b60c18c3",
   "metadata": {},
   "source": [
    "# Exercise files for the course 'Python Made Easy'\n",
    "# Created by the YouTube Channel 'NeoTechGuide'\n",
    "\n",
    "***\n",
    "Visit: https://www.youtube.com/channel/UCVCZVbDZ8xrLIYUzBsdCQ8Q\n",
    "***"
   ]
  },
  {
   "cell_type": "code",
   "execution_count": null,
   "id": "d7113f5b",
   "metadata": {},
   "outputs": [],
   "source": [
    "import numpy as np"
   ]
  },
  {
   "cell_type": "code",
   "execution_count": null,
   "id": "d3bc2b44",
   "metadata": {},
   "outputs": [],
   "source": [
    "my2Darray = np.reshape(np.arange(21),(3,7)) # 21 = 2 * 7\n",
    "print(my2Darray)"
   ]
  },
  {
   "cell_type": "markdown",
   "id": "7215cb39",
   "metadata": {},
   "source": [
    "# Indexing "
   ]
  },
  {
   "cell_type": "code",
   "execution_count": null,
   "id": "dfb936cc",
   "metadata": {},
   "outputs": [],
   "source": [
    "print(my2Darray[2,1])"
   ]
  },
  {
   "cell_type": "code",
   "execution_count": null,
   "id": "06a8487d",
   "metadata": {},
   "outputs": [],
   "source": [
    "print(my2Darray[2])"
   ]
  },
  {
   "cell_type": "code",
   "execution_count": null,
   "id": "b0f5585b",
   "metadata": {},
   "outputs": [],
   "source": [
    "my3Darray = np.reshape(np.arange(60),(3,4,5)) # 60 = 3 * 4 * 5\n",
    "print(my3Darray)"
   ]
  },
  {
   "cell_type": "code",
   "execution_count": null,
   "id": "4c856796",
   "metadata": {},
   "outputs": [],
   "source": [
    "print(my3Darray[0,1,3])"
   ]
  },
  {
   "cell_type": "code",
   "execution_count": null,
   "id": "8bde991a",
   "metadata": {},
   "outputs": [],
   "source": [
    "print(my3Darray[2,-1,-1])"
   ]
  },
  {
   "cell_type": "markdown",
   "id": "6d78a41d",
   "metadata": {},
   "source": [
    "# Slicing "
   ]
  },
  {
   "cell_type": "code",
   "execution_count": null,
   "id": "a39329db",
   "metadata": {},
   "outputs": [],
   "source": [
    "my1Darray = np.arange(9)\n",
    "print(my1Darray)"
   ]
  },
  {
   "cell_type": "code",
   "execution_count": null,
   "id": "49cae966",
   "metadata": {},
   "outputs": [],
   "source": [
    "print(my1Darray[2:6])"
   ]
  },
  {
   "cell_type": "code",
   "execution_count": null,
   "id": "e4b10428",
   "metadata": {},
   "outputs": [],
   "source": [
    "print(my1Darray[:5])"
   ]
  },
  {
   "cell_type": "code",
   "execution_count": null,
   "id": "220bf125",
   "metadata": {},
   "outputs": [],
   "source": [
    "print(my1Darray[-3:])"
   ]
  },
  {
   "cell_type": "code",
   "execution_count": null,
   "id": "e5c7d314",
   "metadata": {},
   "outputs": [],
   "source": [
    "print(my1Darray[::2])"
   ]
  },
  {
   "cell_type": "code",
   "execution_count": null,
   "id": "773d3321",
   "metadata": {},
   "outputs": [],
   "source": [
    "print(my2Darray)"
   ]
  },
  {
   "cell_type": "code",
   "execution_count": null,
   "id": "22e843d8",
   "metadata": {},
   "outputs": [],
   "source": [
    "print(my2Darray[1:,2:])"
   ]
  },
  {
   "cell_type": "code",
   "execution_count": null,
   "id": "2b5c5ac6",
   "metadata": {},
   "outputs": [],
   "source": [
    "print(my2Darray[1,:])"
   ]
  },
  {
   "cell_type": "code",
   "execution_count": null,
   "id": "0ad183e4",
   "metadata": {},
   "outputs": [],
   "source": [
    "print(my2Darray[:,2])"
   ]
  }
 ],
 "metadata": {
  "kernelspec": {
   "display_name": "Python 3 (ipykernel)",
   "language": "python",
   "name": "python3"
  },
  "language_info": {
   "codemirror_mode": {
    "name": "ipython",
    "version": 3
   },
   "file_extension": ".py",
   "mimetype": "text/x-python",
   "name": "python",
   "nbconvert_exporter": "python",
   "pygments_lexer": "ipython3",
   "version": "3.9.7"
  }
 },
 "nbformat": 4,
 "nbformat_minor": 5
}
