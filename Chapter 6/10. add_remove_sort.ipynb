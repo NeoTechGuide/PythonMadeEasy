{
 "cells": [
  {
   "cell_type": "markdown",
   "id": "58d8e9a0",
   "metadata": {},
   "source": [
    "# Exercise files for the course 'Python Made Easy'\n",
    "# Created by the YouTube Channel 'NeoTechGuide'\n",
    "\n",
    "***\n",
    "Visit: https://www.youtube.com/channel/UCVCZVbDZ8xrLIYUzBsdCQ8Q\n",
    "***"
   ]
  },
  {
   "cell_type": "code",
   "execution_count": null,
   "id": "3046c585",
   "metadata": {},
   "outputs": [],
   "source": [
    "import numpy as np"
   ]
  },
  {
   "cell_type": "code",
   "execution_count": null,
   "id": "da9c5d40",
   "metadata": {},
   "outputs": [],
   "source": [
    "myarray1 = np.array([1, 3, 5, 7, 9, 11])\n",
    "print(myarray1)"
   ]
  },
  {
   "cell_type": "markdown",
   "id": "1d8bf617",
   "metadata": {},
   "source": [
    "# Adding elements with 'insert' function"
   ]
  },
  {
   "cell_type": "code",
   "execution_count": null,
   "id": "e59e932e",
   "metadata": {},
   "outputs": [],
   "source": [
    "myarray2 = np.insert(myarray1,2,20)\n",
    "print(myarray2)"
   ]
  },
  {
   "cell_type": "markdown",
   "id": "38d5d7a8",
   "metadata": {},
   "source": [
    "# Adding elements with 'append' function"
   ]
  },
  {
   "cell_type": "code",
   "execution_count": null,
   "id": "7af2f59d",
   "metadata": {},
   "outputs": [],
   "source": [
    "myarray3 = np.append(myarray1,100)\n",
    "print(myarray3)"
   ]
  },
  {
   "cell_type": "markdown",
   "id": "c34ba3bb",
   "metadata": {},
   "source": [
    "# Deleting elements with 'delete' function"
   ]
  },
  {
   "cell_type": "code",
   "execution_count": null,
   "id": "aed10edc",
   "metadata": {},
   "outputs": [],
   "source": [
    "myarray4 = np.delete(myarray1,2)\n",
    "print(myarray4)"
   ]
  },
  {
   "cell_type": "markdown",
   "id": "920fefd0",
   "metadata": {},
   "source": [
    "# Sorting arrays with 'sort' function"
   ]
  },
  {
   "cell_type": "code",
   "execution_count": null,
   "id": "003c0fac",
   "metadata": {},
   "outputs": [],
   "source": [
    "my1Drandarray = np.random.randint(0,10,20)\n",
    "print(my1Drandarray)"
   ]
  },
  {
   "cell_type": "code",
   "execution_count": null,
   "id": "024b7cdd",
   "metadata": {},
   "outputs": [],
   "source": [
    "print(np.sort(my1Drandarray))"
   ]
  },
  {
   "cell_type": "code",
   "execution_count": null,
   "id": "3d82cbc0",
   "metadata": {},
   "outputs": [],
   "source": [
    "my2Drandarray = np.array([[5, 2, 3, 1, 4], [3, 4, 5, 1, 2]])\n",
    "print(my2Drandarray)"
   ]
  },
  {
   "cell_type": "code",
   "execution_count": null,
   "id": "82a57eae",
   "metadata": {},
   "outputs": [],
   "source": [
    "print(np.sort(my2Drandarray))"
   ]
  },
  {
   "cell_type": "code",
   "execution_count": null,
   "id": "80c35b02",
   "metadata": {},
   "outputs": [],
   "source": [
    "names = np.array(['Martin','Hannah','Robert','James'])\n",
    "print(names)"
   ]
  },
  {
   "cell_type": "code",
   "execution_count": null,
   "id": "8aaf41de",
   "metadata": {},
   "outputs": [],
   "source": [
    "print(np.sort(names))"
   ]
  }
 ],
 "metadata": {
  "kernelspec": {
   "display_name": "Python 3 (ipykernel)",
   "language": "python",
   "name": "python3"
  },
  "language_info": {
   "codemirror_mode": {
    "name": "ipython",
    "version": 3
   },
   "file_extension": ".py",
   "mimetype": "text/x-python",
   "name": "python",
   "nbconvert_exporter": "python",
   "pygments_lexer": "ipython3",
   "version": "3.9.7"
  }
 },
 "nbformat": 4,
 "nbformat_minor": 5
}
