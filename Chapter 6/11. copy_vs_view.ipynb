{
 "cells": [
  {
   "cell_type": "markdown",
   "id": "023df0f1",
   "metadata": {},
   "source": [
    "# Exercise files for the course 'Python Made Easy'\n",
    "# Created by the YouTube Channel 'NeoTechGuide'\n",
    "\n",
    "***\n",
    "Visit: https://www.youtube.com/channel/UCVCZVbDZ8xrLIYUzBsdCQ8Q\n",
    "***"
   ]
  },
  {
   "cell_type": "code",
   "execution_count": null,
   "id": "dc7e979d",
   "metadata": {},
   "outputs": [],
   "source": [
    "import numpy as np"
   ]
  },
  {
   "cell_type": "code",
   "execution_count": null,
   "id": "2fe67f1c",
   "metadata": {},
   "outputs": [],
   "source": [
    "arrayID = np.array([1000,1001,1002,1003,1004,1005,1006])\n",
    "print(arrayID)"
   ]
  },
  {
   "cell_type": "markdown",
   "id": "2892b4f5",
   "metadata": {},
   "source": [
    "# Assignments do NOT make copies"
   ]
  },
  {
   "cell_type": "code",
   "execution_count": null,
   "id": "cc834eff",
   "metadata": {},
   "outputs": [],
   "source": [
    "arrayID2 = arrayID\n",
    "print(\"This is arrayID's id:\", id(arrayID))\n",
    "print(\"This is arrayIDreg's id:\", id(arrayID2))"
   ]
  },
  {
   "cell_type": "code",
   "execution_count": null,
   "id": "5a8ad3a9",
   "metadata": {},
   "outputs": [],
   "source": [
    "arrayID2[1] = 2000\n",
    "print(arrayID)\n",
    "print(arrayID2)"
   ]
  },
  {
   "cell_type": "markdown",
   "id": "47e0dffb",
   "metadata": {},
   "source": [
    "# Using the 'copy' method"
   ]
  },
  {
   "cell_type": "code",
   "execution_count": null,
   "id": "bc0120e0",
   "metadata": {},
   "outputs": [],
   "source": [
    "arrayIDcp = arrayID.copy()"
   ]
  },
  {
   "cell_type": "code",
   "execution_count": null,
   "id": "b0d97ec6",
   "metadata": {},
   "outputs": [],
   "source": [
    "print(arrayIDcp)"
   ]
  },
  {
   "cell_type": "code",
   "execution_count": null,
   "id": "7c9e8f5c",
   "metadata": {},
   "outputs": [],
   "source": [
    "print(arrayIDcp == arrayID)"
   ]
  },
  {
   "cell_type": "code",
   "execution_count": null,
   "id": "97df2450",
   "metadata": {},
   "outputs": [],
   "source": [
    "print(\"This is arrayID's id\", id(arrayID))\n",
    "print(\"This is arrayIDcp's id\", id(arrayIDcp))"
   ]
  },
  {
   "cell_type": "code",
   "execution_count": null,
   "id": "77e23745",
   "metadata": {
    "scrolled": true
   },
   "outputs": [],
   "source": [
    "arrayID[-1] = 3000\n",
    "print (\"arrayID: \", arrayID)\n",
    "print(\"arrayIDcp: \", arrayIDcp)"
   ]
  },
  {
   "cell_type": "code",
   "execution_count": null,
   "id": "c9f44bd1",
   "metadata": {},
   "outputs": [],
   "source": [
    "arrayIDcp[-1] = 5000\n",
    "print (\"arrayID: \", arrayID)\n",
    "print(\"arrayIDcp: \",arrayIDcp)"
   ]
  },
  {
   "cell_type": "markdown",
   "id": "21b74094",
   "metadata": {},
   "source": [
    "# Using the 'view' method"
   ]
  },
  {
   "cell_type": "code",
   "execution_count": null,
   "id": "59ba9ed6",
   "metadata": {},
   "outputs": [],
   "source": [
    "arrayID = np.array([1000,1001,1002,1003,1004,1005,1006])\n",
    "arrayIDv = arrayID.view()"
   ]
  },
  {
   "cell_type": "code",
   "execution_count": null,
   "id": "96d7e73f",
   "metadata": {},
   "outputs": [],
   "source": [
    "arrayID[0] = 2000\n",
    "print(\"arrayID: \", arrayID)\n",
    "print(\"arrayIDv:\", arrayIDv)"
   ]
  },
  {
   "cell_type": "code",
   "execution_count": null,
   "id": "cef5a675",
   "metadata": {},
   "outputs": [],
   "source": [
    "arrayIDv[-1] = 5000\n",
    "print(\"arrayID: \", arrayID)\n",
    "print(\"arrayIDv:\", arrayIDv)"
   ]
  },
  {
   "cell_type": "markdown",
   "id": "a2519fed",
   "metadata": {},
   "source": [
    "# Using the 'base' attribute"
   ]
  },
  {
   "cell_type": "code",
   "execution_count": null,
   "id": "792ef847",
   "metadata": {},
   "outputs": [],
   "source": [
    "print(arrayIDcp.base)\n",
    "print(arrayIDv.base)"
   ]
  }
 ],
 "metadata": {
  "kernelspec": {
   "display_name": "Python 3 (ipykernel)",
   "language": "python",
   "name": "python3"
  },
  "language_info": {
   "codemirror_mode": {
    "name": "ipython",
    "version": 3
   },
   "file_extension": ".py",
   "mimetype": "text/x-python",
   "name": "python",
   "nbconvert_exporter": "python",
   "pygments_lexer": "ipython3",
   "version": "3.9.7"
  }
 },
 "nbformat": 4,
 "nbformat_minor": 5
}
