{
 "cells": [
  {
   "cell_type": "markdown",
   "id": "d0d68d8f",
   "metadata": {},
   "source": [
    "# Exercise files for the course 'Python Made Easy'\n",
    "# Created by the YouTube Channel 'NeoTechGuide'\n",
    "\n",
    "***\n",
    "Visit: https://www.youtube.com/channel/UCVCZVbDZ8xrLIYUzBsdCQ8Q\n",
    "***"
   ]
  },
  {
   "cell_type": "code",
   "execution_count": null,
   "id": "c41ee625",
   "metadata": {},
   "outputs": [],
   "source": [
    "import numpy as np"
   ]
  },
  {
   "cell_type": "code",
   "execution_count": null,
   "id": "76fa4d0f",
   "metadata": {},
   "outputs": [],
   "source": [
    "myarray1 = np.arange(1,24,2)\n",
    "print(myarray1)"
   ]
  },
  {
   "cell_type": "markdown",
   "id": "d9f8cdac",
   "metadata": {},
   "source": [
    "# One-dimensional to two-dimensional"
   ]
  },
  {
   "cell_type": "code",
   "execution_count": null,
   "id": "f305b78f",
   "metadata": {
    "scrolled": true
   },
   "outputs": [],
   "source": [
    "myarray2 = np.reshape(myarray1, (2,6))\n",
    "print(myarray2)"
   ]
  },
  {
   "cell_type": "code",
   "execution_count": null,
   "id": "7b8d3fdf",
   "metadata": {},
   "outputs": [],
   "source": [
    "myarray3 = np.reshape(myarray1, (4,3))\n",
    "print(myarray3)"
   ]
  },
  {
   "cell_type": "markdown",
   "id": "f717dd3f",
   "metadata": {},
   "source": [
    "# Old and new dimensions must be consistent"
   ]
  },
  {
   "cell_type": "code",
   "execution_count": null,
   "id": "3e5d2e2d",
   "metadata": {},
   "outputs": [],
   "source": [
    "myarray4 = np.reshape(myarray1, (4,4))"
   ]
  },
  {
   "cell_type": "markdown",
   "id": "2181e8d0",
   "metadata": {},
   "source": [
    "# One-dimensional to three-dimensional"
   ]
  },
  {
   "cell_type": "code",
   "execution_count": null,
   "id": "a47a51bf",
   "metadata": {},
   "outputs": [],
   "source": [
    "myarray5 = np.reshape(myarray1, (2,2,3))\n",
    "print(myarray5)"
   ]
  },
  {
   "cell_type": "code",
   "execution_count": null,
   "id": "62226653",
   "metadata": {},
   "outputs": [],
   "source": [
    "print(myarray5.ndim)"
   ]
  },
  {
   "cell_type": "markdown",
   "id": "2c68c933",
   "metadata": {},
   "source": [
    "# Two-dimensional to one-dimensional"
   ]
  },
  {
   "cell_type": "code",
   "execution_count": null,
   "id": "6be32d02",
   "metadata": {},
   "outputs": [],
   "source": [
    "myarray6 = np.array([[10,20],[30,40],[50,60]])\n",
    "print(myarray6)"
   ]
  },
  {
   "cell_type": "code",
   "execution_count": null,
   "id": "49e08518",
   "metadata": {},
   "outputs": [],
   "source": [
    "myarray7 = np.reshape(myarray6, -1)\n",
    "print(myarray7)"
   ]
  },
  {
   "cell_type": "markdown",
   "id": "47b43d65",
   "metadata": {},
   "source": [
    "# Using 'flatten' and 'ravel' functions"
   ]
  },
  {
   "cell_type": "code",
   "execution_count": null,
   "id": "7338237d",
   "metadata": {},
   "outputs": [],
   "source": [
    "myarray8flat = myarray6.flatten()\n",
    "print(\"myarray8:\", myarray8flat)\n",
    "\n",
    "myarray9ravel = myarray6.ravel()\n",
    "print(\"myarray9:\", myarray9ravel)"
   ]
  },
  {
   "cell_type": "code",
   "execution_count": null,
   "id": "b8cbac4b",
   "metadata": {},
   "outputs": [],
   "source": [
    "myarray8flat[0] = 111"
   ]
  },
  {
   "cell_type": "code",
   "execution_count": null,
   "id": "9e36b412",
   "metadata": {},
   "outputs": [],
   "source": [
    "myarray9ravel[0] = 222"
   ]
  },
  {
   "cell_type": "code",
   "execution_count": null,
   "id": "c9910612",
   "metadata": {},
   "outputs": [],
   "source": [
    "print(\"myarray8flat:\", myarray8flat)\n",
    "print(\"myarray9ravel:\", myarray9ravel)"
   ]
  },
  {
   "cell_type": "code",
   "execution_count": null,
   "id": "81499b37",
   "metadata": {},
   "outputs": [],
   "source": [
    "print(myarray6)"
   ]
  }
 ],
 "metadata": {
  "kernelspec": {
   "display_name": "Python 3 (ipykernel)",
   "language": "python",
   "name": "python3"
  },
  "language_info": {
   "codemirror_mode": {
    "name": "ipython",
    "version": 3
   },
   "file_extension": ".py",
   "mimetype": "text/x-python",
   "name": "python",
   "nbconvert_exporter": "python",
   "pygments_lexer": "ipython3",
   "version": "3.9.7"
  }
 },
 "nbformat": 4,
 "nbformat_minor": 5
}
