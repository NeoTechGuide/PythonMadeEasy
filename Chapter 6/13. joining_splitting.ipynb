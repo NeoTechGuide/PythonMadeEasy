{
 "cells": [
  {
   "cell_type": "markdown",
   "id": "cc5608b0",
   "metadata": {},
   "source": [
    "# Exercise files for the course 'Python Made Easy'\n",
    "# Created by the YouTube Channel 'NeoTechGuide'\n",
    "\n",
    "***\n",
    "Visit: https://www.youtube.com/channel/UCVCZVbDZ8xrLIYUzBsdCQ8Q\n",
    "***"
   ]
  },
  {
   "cell_type": "code",
   "execution_count": null,
   "id": "32f63c5f",
   "metadata": {},
   "outputs": [],
   "source": [
    "import numpy as np"
   ]
  },
  {
   "cell_type": "code",
   "execution_count": null,
   "id": "48a42fd9",
   "metadata": {},
   "outputs": [],
   "source": [
    "myarray1 = np.arange(1,6)\n",
    "myarray2 = np.arange(6,11)\n",
    "\n",
    "print(myarray1)\n",
    "print(myarray2)"
   ]
  },
  {
   "cell_type": "markdown",
   "id": "354ca657",
   "metadata": {},
   "source": [
    "# Using 'concatenate' function"
   ]
  },
  {
   "cell_type": "code",
   "execution_count": null,
   "id": "a6916302",
   "metadata": {},
   "outputs": [],
   "source": [
    "myarray3con = np.concatenate((myarray1,myarray2))\n",
    "print(myarray3con)"
   ]
  },
  {
   "cell_type": "code",
   "execution_count": null,
   "id": "7d1e7a8b",
   "metadata": {},
   "outputs": [],
   "source": [
    "my2Darray1 = np.array([[1,2,3,4,5], [6,7,8,9,10]])\n",
    "my2Darray2 = np.array([[10,20,30,40,50], [60,70,80,90,100]])\n",
    "\n",
    "print(my2Darray1)\n",
    "print(my2Darray2)"
   ]
  },
  {
   "cell_type": "code",
   "execution_count": null,
   "id": "fd04548d",
   "metadata": {},
   "outputs": [],
   "source": [
    "my2Darray3con = np.concatenate((my2Darray1,my2Darray2), axis=0)\n",
    "print(my2Darray3con)"
   ]
  },
  {
   "cell_type": "code",
   "execution_count": null,
   "id": "712462db",
   "metadata": {},
   "outputs": [],
   "source": [
    "my2Darray4con = np.concatenate((my2Darray1,my2Darray2), axis=1)\n",
    "print(my2Darray4con)"
   ]
  },
  {
   "cell_type": "markdown",
   "id": "ea549761",
   "metadata": {},
   "source": [
    "# Using 'stack' function"
   ]
  },
  {
   "cell_type": "code",
   "execution_count": null,
   "id": "3529a8d6",
   "metadata": {},
   "outputs": [],
   "source": [
    "myarray4st = np.stack((myarray1,myarray2))\n",
    "print(myarray4st)"
   ]
  },
  {
   "cell_type": "markdown",
   "id": "0e5b1f90",
   "metadata": {},
   "source": [
    "# Using 'hstack' and 'vstack' functions"
   ]
  },
  {
   "cell_type": "code",
   "execution_count": null,
   "id": "7e63b42d",
   "metadata": {},
   "outputs": [],
   "source": [
    "myarray5hst = np.hstack((myarray1,myarray2))\n",
    "print(myarray5hst)"
   ]
  },
  {
   "cell_type": "code",
   "execution_count": null,
   "id": "1ef6da94",
   "metadata": {},
   "outputs": [],
   "source": [
    "myarray6vst = np.vstack((myarray1,myarray2))\n",
    "print(myarray6vst)"
   ]
  },
  {
   "cell_type": "markdown",
   "id": "3c97de63",
   "metadata": {},
   "source": [
    "# Using 'split' and 'array_split' functions"
   ]
  },
  {
   "cell_type": "code",
   "execution_count": null,
   "id": "12e0fd31",
   "metadata": {},
   "outputs": [],
   "source": [
    "myarray5 = np.arange(1,21)\n",
    "print(myarray5)"
   ]
  },
  {
   "cell_type": "code",
   "execution_count": null,
   "id": "132ee02f",
   "metadata": {
    "scrolled": true
   },
   "outputs": [],
   "source": [
    "myarray6sp = np.split(myarray5, 4)\n",
    "print(myarray6sp)"
   ]
  },
  {
   "cell_type": "code",
   "execution_count": null,
   "id": "cd90629a",
   "metadata": {},
   "outputs": [],
   "source": [
    "myarray6sp = np.split(myarray5, 3)\n",
    "print(myarray6sp)"
   ]
  },
  {
   "cell_type": "code",
   "execution_count": null,
   "id": "66339ad7",
   "metadata": {},
   "outputs": [],
   "source": [
    "myarray7sp = np.array_split(myarray5, 3)\n",
    "print(myarray7sp)"
   ]
  },
  {
   "cell_type": "code",
   "execution_count": null,
   "id": "2cff97b4",
   "metadata": {},
   "outputs": [],
   "source": [
    "print(myarray6sp[1])"
   ]
  },
  {
   "cell_type": "markdown",
   "id": "be0a7027",
   "metadata": {},
   "source": [
    "# Using 'hsplit' and 'vsplit' functions"
   ]
  },
  {
   "cell_type": "code",
   "execution_count": null,
   "id": "8ddf1745",
   "metadata": {},
   "outputs": [],
   "source": [
    "print(my2Darray3con)"
   ]
  },
  {
   "cell_type": "code",
   "execution_count": null,
   "id": "f0b314b2",
   "metadata": {},
   "outputs": [],
   "source": [
    "my2Darray5hsp = np.hsplit(my2Darray3con, 5)\n",
    "print(my2Darray5hsp)"
   ]
  },
  {
   "cell_type": "code",
   "execution_count": null,
   "id": "6b8915e6",
   "metadata": {},
   "outputs": [],
   "source": [
    "my2Darray6vsp = np.vsplit(my2Darray3con, 2)\n",
    "print(my2Darray6vsp)"
   ]
  }
 ],
 "metadata": {
  "kernelspec": {
   "display_name": "Python 3 (ipykernel)",
   "language": "python",
   "name": "python3"
  },
  "language_info": {
   "codemirror_mode": {
    "name": "ipython",
    "version": 3
   },
   "file_extension": ".py",
   "mimetype": "text/x-python",
   "name": "python",
   "nbconvert_exporter": "python",
   "pygments_lexer": "ipython3",
   "version": "3.9.7"
  }
 },
 "nbformat": 4,
 "nbformat_minor": 5
}
