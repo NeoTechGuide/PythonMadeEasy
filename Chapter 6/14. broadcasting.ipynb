{
 "cells": [
  {
   "cell_type": "markdown",
   "id": "b60c18c3",
   "metadata": {},
   "source": [
    "# Exercise files for the course 'Python Made Easy'\n",
    "# Created by the YouTube Channel 'NeoTechGuide'\n",
    "\n",
    "***\n",
    "Visit: https://www.youtube.com/channel/UCVCZVbDZ8xrLIYUzBsdCQ8Q\n",
    "***"
   ]
  },
  {
   "cell_type": "code",
   "execution_count": null,
   "id": "bbb1c82f",
   "metadata": {},
   "outputs": [],
   "source": [
    "import numpy as np"
   ]
  },
  {
   "cell_type": "markdown",
   "id": "477b1e05",
   "metadata": {},
   "source": [
    "# Broadcasting on a one- and two-dimensional array"
   ]
  },
  {
   "cell_type": "code",
   "execution_count": null,
   "id": "0431413f",
   "metadata": {},
   "outputs": [],
   "source": [
    "myarray1 = np.arange(1,19).reshape(3,6)\n",
    "myarray2 = np.arange(1,7)\n",
    "\n",
    "print(myarray1.shape)\n",
    "print(myarray2.shape)"
   ]
  },
  {
   "cell_type": "code",
   "execution_count": null,
   "id": "031dc96a",
   "metadata": {},
   "outputs": [],
   "source": [
    "print(myarray1 + myarray2)"
   ]
  },
  {
   "cell_type": "code",
   "execution_count": null,
   "id": "78212cc0",
   "metadata": {},
   "outputs": [],
   "source": [
    "myarray3 = np.arange(1,5)\n",
    "print(myarray3.shape)"
   ]
  },
  {
   "cell_type": "code",
   "execution_count": null,
   "id": "98a93691",
   "metadata": {},
   "outputs": [],
   "source": [
    "print(myarray1 + myarray3)"
   ]
  },
  {
   "cell_type": "markdown",
   "id": "6e90baeb",
   "metadata": {},
   "source": [
    "# Broadcasting on a three-dimensional array"
   ]
  },
  {
   "cell_type": "code",
   "execution_count": null,
   "id": "81d31e76",
   "metadata": {},
   "outputs": [],
   "source": [
    "myarray4 = np.arange(24).reshape(3,2,4)\n",
    "print(myarray4.shape)"
   ]
  },
  {
   "cell_type": "code",
   "execution_count": null,
   "id": "868f787f",
   "metadata": {},
   "outputs": [],
   "source": [
    "print(myarray4 + myarray3)"
   ]
  }
 ],
 "metadata": {
  "kernelspec": {
   "display_name": "Python 3 (ipykernel)",
   "language": "python",
   "name": "python3"
  },
  "language_info": {
   "codemirror_mode": {
    "name": "ipython",
    "version": 3
   },
   "file_extension": ".py",
   "mimetype": "text/x-python",
   "name": "python",
   "nbconvert_exporter": "python",
   "pygments_lexer": "ipython3",
   "version": "3.9.7"
  }
 },
 "nbformat": 4,
 "nbformat_minor": 5
}
