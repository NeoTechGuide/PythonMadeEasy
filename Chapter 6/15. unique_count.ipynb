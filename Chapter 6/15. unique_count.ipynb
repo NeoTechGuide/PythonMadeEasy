{
 "cells": [
  {
   "cell_type": "markdown",
   "id": "b60c18c3",
   "metadata": {},
   "source": [
    "# Exercise files for the course 'Python Made Easy'\n",
    "# Created by the YouTube Channel 'NeoTechGuide'\n",
    "\n",
    "***\n",
    "Visit: https://www.youtube.com/channel/UCVCZVbDZ8xrLIYUzBsdCQ8Q\n",
    "***"
   ]
  },
  {
   "cell_type": "code",
   "execution_count": null,
   "id": "bed4db78",
   "metadata": {},
   "outputs": [],
   "source": [
    "import numpy as np"
   ]
  },
  {
   "cell_type": "code",
   "execution_count": null,
   "id": "27bd0987",
   "metadata": {},
   "outputs": [],
   "source": [
    "my1Darray = np.array([1,2,3,4,5,6,6,5,4,3,2,1])"
   ]
  },
  {
   "cell_type": "markdown",
   "id": "cd479f9d",
   "metadata": {},
   "source": [
    "# Geting unique values"
   ]
  },
  {
   "cell_type": "code",
   "execution_count": null,
   "id": "5569ad74",
   "metadata": {},
   "outputs": [],
   "source": [
    "print(np.unique(my1Darray))"
   ]
  },
  {
   "cell_type": "code",
   "execution_count": null,
   "id": "75fdab2a",
   "metadata": {},
   "outputs": [],
   "source": [
    "my2Darray = np.array([[1,2,3,3], [4,5,6,6], [7,8,9,9], [1,2,3,3]])\n",
    "print(my2Darray)"
   ]
  },
  {
   "cell_type": "code",
   "execution_count": null,
   "id": "28e116ab",
   "metadata": {},
   "outputs": [],
   "source": [
    "print(np.unique(my2Darray))"
   ]
  },
  {
   "cell_type": "code",
   "execution_count": null,
   "id": "4b9e1545",
   "metadata": {},
   "outputs": [],
   "source": [
    "print(np.unique(my2Darray,axis=0))"
   ]
  },
  {
   "cell_type": "code",
   "execution_count": null,
   "id": "0116f35e",
   "metadata": {},
   "outputs": [],
   "source": [
    "print(np.unique(my2Darray,axis=1))"
   ]
  },
  {
   "cell_type": "markdown",
   "id": "ccf659aa",
   "metadata": {},
   "source": [
    "# Geting index of unique values"
   ]
  },
  {
   "cell_type": "code",
   "execution_count": null,
   "id": "869421e3",
   "metadata": {},
   "outputs": [],
   "source": [
    "print(np.unique(my1Darray,return_index= True))"
   ]
  },
  {
   "cell_type": "markdown",
   "id": "512a1bf3",
   "metadata": {},
   "source": [
    "# Geting frequency count of unique values"
   ]
  },
  {
   "cell_type": "code",
   "execution_count": null,
   "id": "11920ca8",
   "metadata": {},
   "outputs": [],
   "source": [
    "print(np.unique(my2Darray,return_counts=True))"
   ]
  }
 ],
 "metadata": {
  "kernelspec": {
   "display_name": "Python 3 (ipykernel)",
   "language": "python",
   "name": "python3"
  },
  "language_info": {
   "codemirror_mode": {
    "name": "ipython",
    "version": 3
   },
   "file_extension": ".py",
   "mimetype": "text/x-python",
   "name": "python",
   "nbconvert_exporter": "python",
   "pygments_lexer": "ipython3",
   "version": "3.9.7"
  }
 },
 "nbformat": 4,
 "nbformat_minor": 5
}
