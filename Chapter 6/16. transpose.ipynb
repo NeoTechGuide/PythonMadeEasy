{
 "cells": [
  {
   "cell_type": "markdown",
   "id": "b60c18c3",
   "metadata": {},
   "source": [
    "# Exercise files for the course 'Python Made Easy'\n",
    "# Created by the YouTube Channel 'NeoTechGuide'\n",
    "\n",
    "***\n",
    "Visit: https://www.youtube.com/channel/UCVCZVbDZ8xrLIYUzBsdCQ8Q\n",
    "***"
   ]
  },
  {
   "cell_type": "code",
   "execution_count": null,
   "id": "f17607dc",
   "metadata": {},
   "outputs": [],
   "source": [
    "import numpy as np"
   ]
  },
  {
   "cell_type": "code",
   "execution_count": null,
   "id": "39e5037a",
   "metadata": {},
   "outputs": [],
   "source": [
    "my2Darray1 = np.arange(1,21).reshape((5,4))\n",
    "print(my2Darray1) "
   ]
  },
  {
   "cell_type": "markdown",
   "id": "431ed36a",
   "metadata": {},
   "source": [
    "# Using 'transpose' function"
   ]
  },
  {
   "cell_type": "code",
   "execution_count": null,
   "id": "cab40635",
   "metadata": {},
   "outputs": [],
   "source": [
    "print(np.transpose(my2Darray1))"
   ]
  },
  {
   "cell_type": "code",
   "execution_count": null,
   "id": "87bf4289",
   "metadata": {},
   "outputs": [],
   "source": [
    "my2Darray2 = np.arange(1,10).reshape(3,3)\n",
    "print(my2Darray2)"
   ]
  },
  {
   "cell_type": "code",
   "execution_count": null,
   "id": "5be7547b",
   "metadata": {},
   "outputs": [],
   "source": [
    "print(np.transpose(my2Darray2))"
   ]
  },
  {
   "cell_type": "code",
   "execution_count": null,
   "id": "4b009914",
   "metadata": {},
   "outputs": [],
   "source": [
    "print(np.transpose(my2Darray2,(1,0)))"
   ]
  },
  {
   "cell_type": "markdown",
   "id": "e46640d6",
   "metadata": {},
   "source": [
    "# Using 'moveaxis' function"
   ]
  },
  {
   "cell_type": "code",
   "execution_count": null,
   "id": "f04f9829",
   "metadata": {},
   "outputs": [],
   "source": [
    "my3Darray1 = np.arange(60).reshape(3,4,5)\n",
    "print(my3Darray1)"
   ]
  },
  {
   "cell_type": "code",
   "execution_count": null,
   "id": "f6311718",
   "metadata": {
    "scrolled": true
   },
   "outputs": [],
   "source": [
    "print(np.moveaxis(my3Darray1,0,1))"
   ]
  },
  {
   "cell_type": "code",
   "execution_count": null,
   "id": "4b504eea",
   "metadata": {},
   "outputs": [],
   "source": [
    "print(np.moveaxis(my3Darray1,0,-1))"
   ]
  },
  {
   "cell_type": "markdown",
   "id": "f6ad5864",
   "metadata": {},
   "source": [
    "# Using 'swapaxes' function"
   ]
  },
  {
   "cell_type": "code",
   "execution_count": null,
   "id": "f346a4b8",
   "metadata": {},
   "outputs": [],
   "source": [
    "my3Darray2 = np.swapaxes(my3Darray1,0,2)\n",
    "print(my3Darray2)"
   ]
  },
  {
   "cell_type": "code",
   "execution_count": null,
   "id": "cd4b3d3a",
   "metadata": {},
   "outputs": [],
   "source": [
    "print(my3Darray2.shape)"
   ]
  }
 ],
 "metadata": {
  "kernelspec": {
   "display_name": "Python 3 (ipykernel)",
   "language": "python",
   "name": "python3"
  },
  "language_info": {
   "codemirror_mode": {
    "name": "ipython",
    "version": 3
   },
   "file_extension": ".py",
   "mimetype": "text/x-python",
   "name": "python",
   "nbconvert_exporter": "python",
   "pygments_lexer": "ipython3",
   "version": "3.9.7"
  }
 },
 "nbformat": 4,
 "nbformat_minor": 5
}
