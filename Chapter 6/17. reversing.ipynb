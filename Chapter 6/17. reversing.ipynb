{
 "cells": [
  {
   "cell_type": "markdown",
   "id": "b60c18c3",
   "metadata": {},
   "source": [
    "# Exercise files for the course 'Python Made Easy'\n",
    "# Created by the YouTube Channel 'NeoTechGuide'\n",
    "\n",
    "***\n",
    "Visit: https://www.youtube.com/channel/UCVCZVbDZ8xrLIYUzBsdCQ8Q\n",
    "***"
   ]
  },
  {
   "cell_type": "code",
   "execution_count": null,
   "id": "c481826f",
   "metadata": {},
   "outputs": [],
   "source": [
    "import numpy as np"
   ]
  },
  {
   "cell_type": "code",
   "execution_count": null,
   "id": "ad6a580b",
   "metadata": {},
   "outputs": [],
   "source": [
    "my1Darray = np.arange(10)\n",
    "print(my1Darray)"
   ]
  },
  {
   "cell_type": "markdown",
   "id": "6196e6de",
   "metadata": {},
   "source": [
    "# Reversing with slicing"
   ]
  },
  {
   "cell_type": "code",
   "execution_count": null,
   "id": "52012cda",
   "metadata": {},
   "outputs": [],
   "source": [
    "print(my1Darray[::-1])"
   ]
  },
  {
   "cell_type": "markdown",
   "id": "6956f779",
   "metadata": {},
   "source": [
    "# Reversing 1D arrays with 'flip' function"
   ]
  },
  {
   "cell_type": "code",
   "execution_count": null,
   "id": "7e759cce",
   "metadata": {},
   "outputs": [],
   "source": [
    "print(np.flip(my1Darray))"
   ]
  },
  {
   "cell_type": "markdown",
   "id": "c9225dae",
   "metadata": {},
   "source": [
    "# Reversing 2D arrays with 'flip' function"
   ]
  },
  {
   "cell_type": "code",
   "execution_count": null,
   "id": "d526c497",
   "metadata": {},
   "outputs": [],
   "source": [
    "my2Darray = np.arange(16).reshape(4,4)\n",
    "print(my2Darray)"
   ]
  },
  {
   "cell_type": "code",
   "execution_count": null,
   "id": "8db2b599",
   "metadata": {},
   "outputs": [],
   "source": [
    "print(np.flip(my2Darray))"
   ]
  },
  {
   "cell_type": "code",
   "execution_count": null,
   "id": "f87b0015",
   "metadata": {},
   "outputs": [],
   "source": [
    "print(np.flip(my2Darray, axis=1))"
   ]
  },
  {
   "cell_type": "markdown",
   "id": "a5ff4b4f",
   "metadata": {},
   "source": [
    "# Reversing 3D arrays with 'flip' function"
   ]
  },
  {
   "cell_type": "code",
   "execution_count": null,
   "id": "47f2d575",
   "metadata": {},
   "outputs": [],
   "source": [
    "my3Darray = np.arange(24).reshape(4,2,3)\n",
    "print(my3Darray)"
   ]
  },
  {
   "cell_type": "code",
   "execution_count": null,
   "id": "a96d26c0",
   "metadata": {},
   "outputs": [],
   "source": [
    "print(np.flip(my3Darray, axis=1))"
   ]
  },
  {
   "cell_type": "code",
   "execution_count": null,
   "id": "0750fc3d",
   "metadata": {},
   "outputs": [],
   "source": [
    "print(np.flip(my3Darray, axis=2))"
   ]
  }
 ],
 "metadata": {
  "kernelspec": {
   "display_name": "Python 3 (ipykernel)",
   "language": "python",
   "name": "python3"
  },
  "language_info": {
   "codemirror_mode": {
    "name": "ipython",
    "version": 3
   },
   "file_extension": ".py",
   "mimetype": "text/x-python",
   "name": "python",
   "nbconvert_exporter": "python",
   "pygments_lexer": "ipython3",
   "version": "3.9.7"
  }
 },
 "nbformat": 4,
 "nbformat_minor": 5
}
