{
 "cells": [
  {
   "cell_type": "markdown",
   "id": "2d0845a6",
   "metadata": {},
   "source": [
    "# Exercise files for the course 'Python Made Easy'\n",
    "# Created by the YouTube Channel 'NeoTechGuide'\n",
    "\n",
    "***\n",
    "Visit: https://www.youtube.com/channel/UCVCZVbDZ8xrLIYUzBsdCQ8Q\n",
    "***"
   ]
  },
  {
   "cell_type": "code",
   "execution_count": null,
   "id": "348e9a87",
   "metadata": {},
   "outputs": [],
   "source": [
    "import numpy as np"
   ]
  },
  {
   "cell_type": "code",
   "execution_count": null,
   "id": "0fcdfd7d",
   "metadata": {},
   "outputs": [],
   "source": [
    "myintarray = np.array([1,2,5,6,10,20,100])\n",
    "print(myintarray)"
   ]
  },
  {
   "cell_type": "code",
   "execution_count": null,
   "id": "38512af8",
   "metadata": {},
   "outputs": [],
   "source": [
    "myintarray"
   ]
  },
  {
   "cell_type": "code",
   "execution_count": null,
   "id": "ec9c26fe",
   "metadata": {},
   "outputs": [],
   "source": [
    "print(myintarray[4])"
   ]
  },
  {
   "cell_type": "code",
   "execution_count": null,
   "id": "f9406579",
   "metadata": {},
   "outputs": [],
   "source": [
    "myintarray[4] = 13\n",
    "print(myintarray)"
   ]
  },
  {
   "cell_type": "code",
   "execution_count": null,
   "id": "99178912",
   "metadata": {},
   "outputs": [],
   "source": [
    "myintarray[4] = 7.5\n",
    "print(myintarray)"
   ]
  },
  {
   "cell_type": "code",
   "execution_count": null,
   "id": "3da82d6b",
   "metadata": {},
   "outputs": [],
   "source": [
    "print(myintarray.dtype)"
   ]
  },
  {
   "cell_type": "code",
   "execution_count": null,
   "id": "c211fd5f",
   "metadata": {},
   "outputs": [],
   "source": [
    "myintarray2 = np.array(myintarray, dtype=np.int8)\n",
    "print(myintarray2)"
   ]
  },
  {
   "cell_type": "code",
   "execution_count": null,
   "id": "bcbe499b",
   "metadata": {
    "scrolled": true
   },
   "outputs": [],
   "source": [
    "print(myintarray.nbytes)\n",
    "print(myintarray2.nbytes)"
   ]
  },
  {
   "cell_type": "code",
   "execution_count": null,
   "id": "3b4ad6e7",
   "metadata": {},
   "outputs": [],
   "source": [
    "overflow = np.array([200,300,400,500], dtype = np.int8)\n",
    "print(overflow)"
   ]
  },
  {
   "cell_type": "code",
   "execution_count": null,
   "id": "18976bf8",
   "metadata": {},
   "outputs": [],
   "source": [
    "myflarray = np.array([1.2,2.3,3.4,5.1,8.3])"
   ]
  },
  {
   "cell_type": "code",
   "execution_count": null,
   "id": "96dad4ec",
   "metadata": {},
   "outputs": [],
   "source": [
    "print(myflarray)"
   ]
  },
  {
   "cell_type": "code",
   "execution_count": null,
   "id": "f54bdcf7",
   "metadata": {},
   "outputs": [],
   "source": [
    "print(myflarray.dtype)"
   ]
  }
 ],
 "metadata": {
  "kernelspec": {
   "display_name": "Python 3 (ipykernel)",
   "language": "python",
   "name": "python3"
  },
  "language_info": {
   "codemirror_mode": {
    "name": "ipython",
    "version": 3
   },
   "file_extension": ".py",
   "mimetype": "text/x-python",
   "name": "python",
   "nbconvert_exporter": "python",
   "pygments_lexer": "ipython3",
   "version": "3.9.7"
  }
 },
 "nbformat": 4,
 "nbformat_minor": 5
}
