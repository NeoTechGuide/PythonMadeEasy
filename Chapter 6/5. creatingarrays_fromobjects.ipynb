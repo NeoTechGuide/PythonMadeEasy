{
 "cells": [
  {
   "cell_type": "markdown",
   "id": "12fa71dc",
   "metadata": {},
   "source": [
    "# Exercise files for the course 'Python Made Easy'\n",
    "# Created by the YouTube Channel 'NeoTechGuide'\n",
    "\n",
    "***\n",
    "Visit: https://www.youtube.com/channel/UCVCZVbDZ8xrLIYUzBsdCQ8Q\n",
    "***"
   ]
  },
  {
   "cell_type": "code",
   "execution_count": null,
   "id": "36bbee0e",
   "metadata": {},
   "outputs": [],
   "source": [
    "import numpy as np"
   ]
  },
  {
   "cell_type": "code",
   "execution_count": null,
   "id": "eea4d6f8",
   "metadata": {},
   "outputs": [],
   "source": [
    "mylist1 = [1,2,3,4,5,6,7,8,9,10]\n",
    "print(mylist1)"
   ]
  },
  {
   "cell_type": "code",
   "execution_count": null,
   "id": "565a0f40",
   "metadata": {},
   "outputs": [],
   "source": [
    "myarray1 = np.array(mylist1)\n",
    "print(myarray1)"
   ]
  },
  {
   "cell_type": "code",
   "execution_count": null,
   "id": "c54f4cf7",
   "metadata": {},
   "outputs": [],
   "source": [
    "mylist2 = [1.1,2.2,3.3,4.4, 55,66,77,88,99]\n",
    "myarray2 = np.array(mylist2)\n",
    "print(myarray2)"
   ]
  },
  {
   "cell_type": "code",
   "execution_count": null,
   "id": "1850ff81",
   "metadata": {},
   "outputs": [],
   "source": [
    "print(myarray2.dtype)"
   ]
  },
  {
   "cell_type": "code",
   "execution_count": null,
   "id": "7aea37ef",
   "metadata": {},
   "outputs": [],
   "source": [
    "mylist3 = ['Hannah','Ryan','Susan',11,12,13]\n",
    "myarray3 = np.array(mylist3)\n",
    "print(myarray3)"
   ]
  },
  {
   "cell_type": "code",
   "execution_count": null,
   "id": "67304139",
   "metadata": {},
   "outputs": [],
   "source": [
    "mytuple1 = (1, 3, 5, 7, 9, 11)\n",
    "myarray4 = np.array(mytuple1)\n",
    "print(myarray4)"
   ]
  },
  {
   "cell_type": "code",
   "execution_count": null,
   "id": "ca3b4ee8",
   "metadata": {},
   "outputs": [],
   "source": [
    "print(myarray4.dtype)"
   ]
  },
  {
   "cell_type": "code",
   "execution_count": null,
   "id": "b998f060",
   "metadata": {},
   "outputs": [],
   "source": [
    "mylist4 = [[[0,1,2], [3,4,5]], [[6,7,8],[9,10,11]]] \n",
    "myarray5 = np.array(mylist4)\n",
    "print(myarray5)"
   ]
  }
 ],
 "metadata": {
  "kernelspec": {
   "display_name": "Python 3 (ipykernel)",
   "language": "python",
   "name": "python3"
  },
  "language_info": {
   "codemirror_mode": {
    "name": "ipython",
    "version": 3
   },
   "file_extension": ".py",
   "mimetype": "text/x-python",
   "name": "python",
   "nbconvert_exporter": "python",
   "pygments_lexer": "ipython3",
   "version": "3.9.7"
  }
 },
 "nbformat": 4,
 "nbformat_minor": 5
}
