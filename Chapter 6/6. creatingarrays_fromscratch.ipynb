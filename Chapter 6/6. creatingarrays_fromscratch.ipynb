{
 "cells": [
  {
   "cell_type": "markdown",
   "id": "ec31b7d6",
   "metadata": {},
   "source": [
    "# Exercise files for the course 'Python Made Easy'\n",
    "# Created by the YouTube Channel 'NeoTechGuide'\n",
    "\n",
    "***\n",
    "Visit: https://www.youtube.com/channel/UCVCZVbDZ8xrLIYUzBsdCQ8Q\n",
    "***"
   ]
  },
  {
   "cell_type": "code",
   "execution_count": null,
   "id": "cd7fc1b4",
   "metadata": {},
   "outputs": [],
   "source": [
    "import numpy as np"
   ]
  },
  {
   "cell_type": "markdown",
   "id": "50a095c5",
   "metadata": {},
   "source": [
    "# Creating integer arrays with 'arange'"
   ]
  },
  {
   "cell_type": "code",
   "execution_count": null,
   "id": "db34fff3",
   "metadata": {},
   "outputs": [],
   "source": [
    "myintarray1 = np.arange(10)\n",
    "print(myintarray1)"
   ]
  },
  {
   "cell_type": "code",
   "execution_count": null,
   "id": "0ba8325c",
   "metadata": {},
   "outputs": [],
   "source": [
    "myintarray2 = np.arange(10,30)\n",
    "print(myintarray2)"
   ]
  },
  {
   "cell_type": "code",
   "execution_count": null,
   "id": "8057c0cd",
   "metadata": {},
   "outputs": [],
   "source": [
    "myintarray3 = np.arange(11,30,2)\n",
    "print(myintarray3)"
   ]
  },
  {
   "cell_type": "markdown",
   "id": "28164bf2",
   "metadata": {},
   "source": [
    "# Creating arrays of evenly spaced values with 'linspace'"
   ]
  },
  {
   "cell_type": "code",
   "execution_count": null,
   "id": "bdbd9a95",
   "metadata": {},
   "outputs": [],
   "source": [
    "myarray1 = np.linspace(10,50)\n",
    "print(myarray1)"
   ]
  },
  {
   "cell_type": "code",
   "execution_count": null,
   "id": "f534deb7",
   "metadata": {},
   "outputs": [],
   "source": [
    "myarray2 = np.linspace(10,50,10)\n",
    "print(myarray2)"
   ]
  },
  {
   "cell_type": "markdown",
   "id": "4eb59494",
   "metadata": {},
   "source": [
    "# Creating arrays of random numbers uniformly distributed from 0 to 1"
   ]
  },
  {
   "cell_type": "code",
   "execution_count": null,
   "id": "9063782b",
   "metadata": {},
   "outputs": [],
   "source": [
    "myrandomarray1 = np.random.rand(15)\n",
    "print(myrandomarray1)"
   ]
  },
  {
   "cell_type": "code",
   "execution_count": null,
   "id": "5d342f0a",
   "metadata": {},
   "outputs": [],
   "source": [
    "myrandomarray2 = np.random.rand(3,4)\n",
    "print(myrandomarray2)"
   ]
  },
  {
   "cell_type": "markdown",
   "id": "a7b99b8a",
   "metadata": {},
   "source": [
    "# Creating arrays of random integer numbers"
   ]
  },
  {
   "cell_type": "code",
   "execution_count": null,
   "id": "8877c697",
   "metadata": {},
   "outputs": [],
   "source": [
    "myrandomarray3 = np.random.randint(0,200,50)\n",
    "print(myrandomarray3)"
   ]
  }
 ],
 "metadata": {
  "kernelspec": {
   "display_name": "Python 3 (ipykernel)",
   "language": "python",
   "name": "python3"
  },
  "language_info": {
   "codemirror_mode": {
    "name": "ipython",
    "version": 3
   },
   "file_extension": ".py",
   "mimetype": "text/x-python",
   "name": "python",
   "nbconvert_exporter": "python",
   "pygments_lexer": "ipython3",
   "version": "3.9.7"
  }
 },
 "nbformat": 4,
 "nbformat_minor": 5
}
